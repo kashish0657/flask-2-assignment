{
 "cells": [
  {
   "cell_type": "markdown",
   "id": "43827c9e-cd62-4a74-9566-e9bbcc4380fd",
   "metadata": {},
   "source": [
    "## flask2 assignment"
   ]
  },
  {
   "cell_type": "markdown",
   "id": "d6eafbba-8d50-4595-805f-838c25bee564",
   "metadata": {},
   "source": [
    "## 1:ans:->"
   ]
  },
  {
   "cell_type": "code",
   "execution_count": null,
   "id": "9b93de8e-d076-46e8-9b5d-fd910e0c8be4",
   "metadata": {},
   "outputs": [],
   "source": [
    "The GET and POST methods are two HTTP (Hypertext Transfer Protocol) request methods used to send\n",
    "data between a client (such as a web browser) and a server.\n",
    "\n",
    "GET method:\n",
    "When a client sends a GET request, it asks the server to retrieve data from a specific resource.\n",
    "The data is appended to the end of the URL as a query string. The GET method is used for requests\n",
    "that retrieve data, such as retrieving a web page or a file. A GET request is considered \"safe\"\n",
    "because it doesn't change any data on the server.\n",
    "\n",
    "POST method:\n",
    "When a client sends a POST request, it asks the server to accept and store data that is included \n",
    "in the body of the request. The POST method is used for requests that modify data on the server,\n",
    "such as submitting a form. A POST request is considered \"unsafe\" because it can change data on the server.\n",
    "\n",
    "The GET method is used to retrieve data, while the POST method is used to submit and store data."
   ]
  },
  {
   "cell_type": "markdown",
   "id": "cadbfc98-d5a6-4c41-938b-6104682ad0a6",
   "metadata": {},
   "source": [
    "## 2:ans:->"
   ]
  },
  {
   "cell_type": "code",
   "execution_count": null,
   "id": "e817108f-f279-4424-9395-2d758641c5bc",
   "metadata": {},
   "outputs": [],
   "source": [
    "\n",
    "In Flask, \"request\" is used to access incoming request data in Flask applications. When a user\n",
    "interacts with a Flask web application, a request is sent to the application. This request contains\n",
    "information about the user, the requested URL, any parameters, and other data.\n",
    "\n"
   ]
  },
  {
   "cell_type": "markdown",
   "id": "4849a267-f316-4674-a637-936cf550a7aa",
   "metadata": {},
   "source": [
    "## 3:ans:->"
   ]
  },
  {
   "cell_type": "code",
   "execution_count": null,
   "id": "edcb2870-fbd8-45d0-8c1e-481d2cd1d758",
   "metadata": {},
   "outputs": [],
   "source": [
    "\n",
    "The redirect() function in Flask is used to redirect a user to a different route or URL. It is\n",
    "commonly used when you want to redirect the user to another page after they have submitted a form,\n",
    "logged in, or performed some other action.\n",
    "\n"
   ]
  },
  {
   "cell_type": "markdown",
   "id": "f978c572-0394-40a1-809e-b36a79204656",
   "metadata": {},
   "source": [
    "## 4:ans:->"
   ]
  },
  {
   "cell_type": "code",
   "execution_count": null,
   "id": "d8e16816-a061-41be-a44c-2e33f0dd55f2",
   "metadata": {},
   "outputs": [],
   "source": [
    "\n",
    "In Flask, templates are files that contain static data (such as HTML, CSS, and JavaScript) as well\n",
    "as placeholders for dynamic data that will be supplied by the application at runtime.\n",
    "\n",
    "The render_template() function in Flask is used to render a template file and return the resulting\n",
    "HTML to the client. The function takes the name of the template file as its first argument and any\n",
    "additional data as keyword arguments.\n"
   ]
  },
  {
   "cell_type": "markdown",
   "id": "f3bd76e5-a5a5-4fd1-a50e-d53f95347130",
   "metadata": {},
   "source": [
    "## 5:ans:->"
   ]
  },
  {
   "cell_type": "code",
   "execution_count": 1,
   "id": "7040af52-29b9-446f-855a-caa36ae76276",
   "metadata": {},
   "outputs": [
    {
     "ename": "ModuleNotFoundError",
     "evalue": "No module named 'flask'",
     "output_type": "error",
     "traceback": [
      "\u001b[0;31m---------------------------------------------------------------------------\u001b[0m",
      "\u001b[0;31mModuleNotFoundError\u001b[0m                       Traceback (most recent call last)",
      "Cell \u001b[0;32mIn[1], line 1\u001b[0m\n\u001b[0;32m----> 1\u001b[0m \u001b[38;5;28;01mfrom\u001b[39;00m \u001b[38;5;21;01mflask\u001b[39;00m \u001b[38;5;28;01mimport\u001b[39;00m Flask, request\n\u001b[1;32m      3\u001b[0m app \u001b[38;5;241m=\u001b[39m Flask(\u001b[38;5;18m__name__\u001b[39m)\n\u001b[1;32m      5\u001b[0m \u001b[38;5;129m@app\u001b[39m\u001b[38;5;241m.\u001b[39mroute(\u001b[38;5;124m'\u001b[39m\u001b[38;5;124m/greet\u001b[39m\u001b[38;5;124m'\u001b[39m, methods\u001b[38;5;241m=\u001b[39m[\u001b[38;5;124m'\u001b[39m\u001b[38;5;124mPOST\u001b[39m\u001b[38;5;124m'\u001b[39m])\n\u001b[1;32m      6\u001b[0m \u001b[38;5;28;01mdef\u001b[39;00m \u001b[38;5;21mgreet\u001b[39m():\n",
      "\u001b[0;31mModuleNotFoundError\u001b[0m: No module named 'flask'"
     ]
    }
   ],
   "source": [
    "from flask import Flask, request\n",
    "\n",
    "app = Flask(__name__)\n",
    "\n",
    "@app.route('/greet', methods=['POST'])\n",
    "def greet():\n",
    "    name = request.json['name']\n",
    "    return f'Hello, {name}!'\n",
    "\n",
    "if __name__ == '__main__':\n",
    "    app.run(debug=True)"
   ]
  },
  {
   "cell_type": "code",
   "execution_count": null,
   "id": "15a961ae-7047-45d2-8167-7513f5e9f194",
   "metadata": {},
   "outputs": [],
   "source": []
  }
 ],
 "metadata": {
  "kernelspec": {
   "display_name": "Python 3 (ipykernel)",
   "language": "python",
   "name": "python3"
  },
  "language_info": {
   "codemirror_mode": {
    "name": "ipython",
    "version": 3
   },
   "file_extension": ".py",
   "mimetype": "text/x-python",
   "name": "python",
   "nbconvert_exporter": "python",
   "pygments_lexer": "ipython3",
   "version": "3.10.8"
  }
 },
 "nbformat": 4,
 "nbformat_minor": 5
}
